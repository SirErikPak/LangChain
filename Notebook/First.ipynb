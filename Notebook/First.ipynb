{
 "cells": [
  {
   "cell_type": "markdown",
   "id": "7d259b6c",
   "metadata": {},
   "source": [
    "# Load PDF Document"
   ]
  },
  {
   "cell_type": "code",
   "execution_count": 1,
   "id": "8b8667c0",
   "metadata": {},
   "outputs": [
    {
     "name": "stderr",
     "output_type": "stream",
     "text": [
      "Ignoring wrong pointing object 6 0 (offset 0)\n",
      "Ignoring wrong pointing object 8 0 (offset 0)\n",
      "Ignoring wrong pointing object 12 0 (offset 0)\n",
      "Ignoring wrong pointing object 21 0 (offset 0)\n",
      "Ignoring wrong pointing object 6 0 (offset 0)\n",
      "Ignoring wrong pointing object 8 0 (offset 0)\n",
      "Ignoring wrong pointing object 18 0 (offset 0)\n",
      "Ignoring wrong pointing object 6 0 (offset 0)\n",
      "Ignoring wrong pointing object 8 0 (offset 0)\n",
      "Ignoring wrong pointing object 18 0 (offset 0)\n",
      "Ignoring wrong pointing object 6 0 (offset 0)\n",
      "Ignoring wrong pointing object 8 0 (offset 0)\n",
      "Ignoring wrong pointing object 18 0 (offset 0)\n",
      "Ignoring wrong pointing object 6 0 (offset 0)\n",
      "Ignoring wrong pointing object 8 0 (offset 0)\n",
      "Ignoring wrong pointing object 18 0 (offset 0)\n",
      "Ignoring wrong pointing object 6 0 (offset 0)\n",
      "Ignoring wrong pointing object 8 0 (offset 0)\n",
      "Ignoring wrong pointing object 18 0 (offset 0)\n"
     ]
    }
   ],
   "source": [
    "from langchain_community.document_loaders import PyPDFLoader\n",
    "\n",
    "# Load PDF\n",
    "loaders = [\n",
    "    PyPDFLoader(\"../Data/botanical.pdf\"),\n",
    "    PyPDFLoader(\"../Data/astronomical.pdf\"),\n",
    "    PyPDFLoader(\"../Data/biological.pdf\"),\n",
    "    PyPDFLoader(\"../Data/cosmological.pdf\"),\n",
    "    PyPDFLoader(\"../Data/culinary.pdf\"),\n",
    "    PyPDFLoader(\"../Data/pharmaceutical.pdf\")\n",
    "]\n",
    "\n",
    "docs = []\n",
    "\n",
    "for loader in loaders:\n",
    "    docs.extend(loader.load())"
   ]
  },
  {
   "cell_type": "code",
   "execution_count": 2,
   "id": "959d6a65",
   "metadata": {},
   "outputs": [
    {
     "data": {
      "text/plain": [
       "1573"
      ]
     },
     "execution_count": 2,
     "metadata": {},
     "output_type": "execute_result"
    }
   ],
   "source": [
    "len(docs[0].page_content)"
   ]
  },
  {
   "cell_type": "code",
   "execution_count": 3,
   "id": "703c51c0",
   "metadata": {},
   "outputs": [
    {
     "name": "stdout",
     "output_type": "stream",
     "text": [
      "Botanical Section Botanixum Sectiorum Arcanix \n",
      " A peculiar plant with spiraling leaves and vibrant blue flowers that seem to emit a faint glow in moonlight. • Holoris spiralis: In lumine lunae, flores azuri magni brillant. • Radices mysticae: Radices intortae terram quaerunt, lumina nocturna sequentes. • Usus: Extractum florae noctem illuminat, mentem serenat.  \n",
      "Luminaflora Spiralis Luminaflora Spiralis thrives under the moon's tender gaze, where its spiraling leaves and vibrant blue petals unfo\n"
     ]
    }
   ],
   "source": [
    "print(docs[0].page_content[:500])"
   ]
  },
  {
   "cell_type": "code",
   "execution_count": 4,
   "id": "b2c80076",
   "metadata": {},
   "outputs": [
    {
     "name": "stdout",
     "output_type": "stream",
     "text": [
      "2 \n",
      "agricultural and ritual purposes. The intertwining of celestial paths offers a puzzle that has challenged viewers for centuries, beckoning modern interpreters to uncover its secrets.  \n",
      "  Detailed drawings of the moon in various phases, each linked to specific botanical and pharmaceutical properties as per ancient lore.  Lunae facies, in caelesti scena variabilis, herbarum crescendi artes et veneficium influent. Phasae lunares, a nova ad plenam, medicamentorum preparationem et magicae practicae fundamentum afficiunt. \n",
      "Lunar Phases Lunar Influence The depiction of Lunar Phases in this section serves a dual purpose: illustrating the moon's aesthetic journey through its cycles and exploring i\n"
     ]
    }
   ],
   "source": [
    "print(docs[5].page_content[:700])"
   ]
  },
  {
   "cell_type": "code",
   "execution_count": 5,
   "id": "247ff12b",
   "metadata": {},
   "outputs": [
    {
     "data": {
      "text/plain": [
       "24"
      ]
     },
     "execution_count": 5,
     "metadata": {},
     "output_type": "execute_result"
    }
   ],
   "source": [
    "len(docs)"
   ]
  },
  {
   "cell_type": "code",
   "execution_count": 6,
   "id": "04b33911",
   "metadata": {},
   "outputs": [
    {
     "data": {
      "text/plain": [
       "Document(metadata={'producer': 'macOS Version 12.3 (Build 21E230) Quartz PDFContext', 'creator': 'Word', 'creationdate': \"D:20240401183814Z00'00'\", 'title': 'Microsoft Word - Botanical Section.docx', 'moddate': \"D:20240401183814Z00'00'\", 'source': '../Data/botanical.pdf', 'total_pages': 4, 'page': 0, 'page_label': '1'}, page_content=\"Botanical Section Botanixum Sectiorum Arcanix \\n A peculiar plant with spiraling leaves and vibrant blue flowers that seem to emit a faint glow in moonlight. • Holoris spiralis: In lumine lunae, flores azuri magni brillant. • Radices mysticae: Radices intortae terram quaerunt, lumina nocturna sequentes. • Usus: Extractum florae noctem illuminat, mentem serenat.  \\nLuminaflora Spiralis Luminaflora Spiralis thrives under the moon's tender gaze, where its spiraling leaves and vibrant blue petals unfold in a mesmerizing dance of light. Believed by ancient scholars to bridge the earthly realm with the ethereal, these plants radiate a soft luminescence, guiding lost travelers through the darkest nights. Mystics and poets claim that merely being in the presence of Luminaflora can soothe troubled thoughts and illuminate the path to inner peace.   The roots of Luminaflora Spiralis are as intriguing as its blooms. Entwining deeply within the earth, they seek not water, but moonlight that filters through the soil, a phenomenon that baffles even the most learned botanists. The plant's affinity for lunar rays is reflected in its growth cycle, with each phase of the moon bringing about subtle changes in its luminescence and petal orientation. This unique symbiosis with the moon makes Luminaflora a subject of endless fascination.  In medicinal practices, extracts from Luminaflora Spiralis are highly valued for their illuminating properties. Alchemists concoct potions that harness the plant's glow, claiming such elixirs can light up one's inner darkness, dispelling\")"
      ]
     },
     "execution_count": 6,
     "metadata": {},
     "output_type": "execute_result"
    }
   ],
   "source": [
    "docs[0]"
   ]
  },
  {
   "cell_type": "code",
   "execution_count": 7,
   "id": "6065f5c4",
   "metadata": {},
   "outputs": [],
   "source": [
    "from langchain.text_splitter import CharacterTextSplitter\n",
    "\n",
    "text_splitter = CharacterTextSplitter(\n",
    "    separator=\"\\n\",\n",
    "    chunk_size=1000,\n",
    "    chunk_overlap=150,\n",
    "    length_function=len\n",
    ")"
   ]
  },
  {
   "cell_type": "code",
   "execution_count": 8,
   "id": "05294a8a",
   "metadata": {},
   "outputs": [],
   "source": [
    "docs = text_splitter.split_documents(docs)"
   ]
  },
  {
   "cell_type": "code",
   "execution_count": 9,
   "id": "10234422",
   "metadata": {},
   "outputs": [
    {
     "data": {
      "text/plain": [
       "43"
      ]
     },
     "execution_count": 9,
     "metadata": {},
     "output_type": "execute_result"
    }
   ],
   "source": [
    "len(docs)"
   ]
  },
  {
   "cell_type": "code",
   "execution_count": 10,
   "id": "9f262ed0",
   "metadata": {},
   "outputs": [
    {
     "data": {
      "text/plain": [
       "Document(metadata={'producer': 'macOS Version 12.3 (Build 21E230) Quartz PDFContext', 'creator': 'Word', 'creationdate': \"D:20240401183814Z00'00'\", 'title': 'Microsoft Word - Botanical Section.docx', 'moddate': \"D:20240401183814Z00'00'\", 'source': '../Data/botanical.pdf', 'total_pages': 4, 'page': 0, 'page_label': '1'}, page_content='Botanical Section Botanixum Sectiorum Arcanix \\n A peculiar plant with spiraling leaves and vibrant blue flowers that seem to emit a faint glow in moonlight. • Holoris spiralis: In lumine lunae, flores azuri magni brillant. • Radices mysticae: Radices intortae terram quaerunt, lumina nocturna sequentes. • Usus: Extractum florae noctem illuminat, mentem serenat.')"
      ]
     },
     "execution_count": 10,
     "metadata": {},
     "output_type": "execute_result"
    }
   ],
   "source": [
    "docs[0]"
   ]
  },
  {
   "cell_type": "code",
   "execution_count": 11,
   "id": "9dadca0e",
   "metadata": {},
   "outputs": [
    {
     "data": {
      "text/plain": [
       "'Botanical Section Botanixum Sectiorum Arcanix \\n A peculiar plant with spiraling leaves and vibrant blue flowers that seem to emit a faint glow in moonlight. • Holoris spiralis: In lumine lunae, flores azuri magni brillant. • Radices mysticae: Radices intortae terram quaerunt, lumina nocturna sequentes. • Usus: Extractum florae noctem illuminat, mentem serenat.'"
      ]
     },
     "execution_count": 11,
     "metadata": {},
     "output_type": "execute_result"
    }
   ],
   "source": [
    "docs[0].page_content[:500]"
   ]
  },
  {
   "cell_type": "markdown",
   "id": "4bd5f9d4",
   "metadata": {},
   "source": [
    "Here's a breakdown of the differences between `all-MiniLM-L6-v2`, `paraphrase-MiniLM-L6-v2`, and `bert-base-nli-mean-tokens`.\n",
    "\n",
    "- `all-MiniLM-L6-v2`\t\n",
    "    - General-purpose. The modern standard.\tSmallest & fastest.\tExcellent for its size. \n",
    "    - The recommended default. `paraphrase-MiniLM-L6-v2` Paraphrase-focused. Very similar to `all-MiniLM-L6-v2`. Excellent, but specifically for finding paraphrases. `bert-base-nli-mean-tokens` Legacy. An older, foundational model.\tLarger & slower. Good, but generally outperformed by newer models.\n",
    "\n",
    "\n",
    "Detailed Breakdown\n",
    "1. `all-MiniLM-L6-v2`: This is the most popular and highly recommended model for most general tasks.\n",
    "- Training and Purpose: The \"all-\" prefix means it was trained on a massive, diverse dataset of over 1 billion sentence pairs from various sources. This makes it a great \"all-arounder\" that performs well on a wide range of tasks, including semantic search, clustering, and sentence similarity.\n",
    "- Architecture & Efficiency: The `MiniLM-L6-v2` part tells you about its architecture. It's a \"distilled\" model, meaning it's a smaller version of a much larger, more complex model. It has 6 layers and outputs a 384-dimensional vector. This distillation process allows it to be extremely fast and lightweight while retaining very high-quality embeddings.\n",
    "- When to use it: This should be your go-to choice unless you have a specific reason to use something else. It's the best balance of speed, size, and performance for most applications.\n",
    "\n",
    "2. `paraphrase-MiniLM-L6-v2`: This model is a close cousin to all-MiniLM-L6-v2 but with a slightly different specialization.\n",
    "- Training and Purpose: This model was specifically fine-tuned on a dataset of paraphrases (like Quora question pairs and other sentence pairs that express the same meaning in different ways). This training makes it exceptionally good at identifying semantic similarity, even when the sentences use completely different words.\n",
    "- Architecture & Efficiency: It shares the same efficient `MiniLM-L6-v2` architecture, so it's also very fast and has the same 384-dimensional output.\n",
    "- When to use it: Use this model if your primary task is finding sentences that are exact or close paraphrases of each other. For example, if you're building a chatbot and want to match a user's query to a list of pre-written answers, this model would excel.\n",
    "\n",
    "3. `bert-base-nli-mean-tokens`: This model is a foundational, but now largely superseded, model in the SentenceTransformer ecosystem.\n",
    "- Training and Purpose: This was one of the first `Sentence-BERT` models released. It's based on the original `bert-base-uncased` model and was fine-tuned on the Natural Language Inference (NLI) dataset. The \"mean-tokens\" part refers to its pooling strategy, which averages the output vectors of all tokens in a sentence to create a single sentence vector.\n",
    "- Architecture & Efficiency: Because it's based on the original `BERT` model, it's significantly larger (12 layers) and outputs a 768-dimensional vector, which makes it about 2-5 times slower and larger than the MiniLM models.\n",
    "- When to use it: You generally shouldn't use this model for new projects. The `all-MiniLM-L6-v2` model offers better performance in most cases, is much faster, and is more efficient. This model is mainly for historical context or if you have a legacy system that already uses it."
   ]
  },
  {
   "cell_type": "code",
   "execution_count": 12,
   "id": "f7d4c0b0",
   "metadata": {},
   "outputs": [],
   "source": [
    "from sentence_transformers import SentenceTransformer\n",
    "\n",
    "\n",
    "sentences = [\n",
    "    \"I love learning!\",\n",
    "    \"Learning is fun!\",\n",
    "    \"Never stop learning!\",\n",
    "    \"Explore LinkedIn Learning courses.\",\n",
    "    \"Watch my other courses\"\n",
    "    ]\n",
    "\n",
    "# Load  SentenceTransformer\n",
    "# model = SentenceTransformer('all-MiniLM-L6-v2')\n",
    "model = SentenceTransformer('all-mpnet-base-v2')\n",
    "\n",
    "# Generate embeddings\n",
    "embeddings_sent = model.encode(sentences)"
   ]
  },
  {
   "cell_type": "code",
   "execution_count": 13,
   "id": "42a4a27b",
   "metadata": {},
   "outputs": [
    {
     "name": "stdout",
     "output_type": "stream",
     "text": [
      "Sentence: I love learning!\n",
      "Embedding shape: (5, 768)\n",
      "Embedding (first 5 dimensions): [-0.03272183  0.01143769 -0.01804311  0.02177308  0.04838644]\n",
      "------------------------------\n",
      "Sentence: Learning is fun!\n",
      "Embedding shape: (5, 768)\n",
      "Embedding (first 5 dimensions): [-0.0135351  -0.03630215 -0.03260653  0.01474325  0.02353522]\n",
      "------------------------------\n",
      "Sentence: Never stop learning!\n",
      "Embedding shape: (5, 768)\n",
      "Embedding (first 5 dimensions): [-0.03285681  0.07727297 -0.02225168  0.00250347  0.06208544]\n",
      "------------------------------\n",
      "Sentence: Explore LinkedIn Learning courses.\n",
      "Embedding shape: (5, 768)\n",
      "Embedding (first 5 dimensions): [-0.01628058 -0.03331627 -0.02647488 -0.00301399  0.00740444]\n",
      "------------------------------\n",
      "Sentence: Watch my other courses\n",
      "Embedding shape: (5, 768)\n",
      "Embedding (first 5 dimensions): [-0.04280667  0.03065977 -0.01687398  0.05051419  0.00201701]\n",
      "------------------------------\n"
     ]
    }
   ],
   "source": [
    "# Print the embeddings\n",
    "for sentence, embedding in zip(sentences, embeddings_sent):\n",
    "    print(f\"Sentence: {sentence}\")\n",
    "    print(f\"Embedding shape: {embeddings_sent.shape}\")\n",
    "    print(f\"Embedding (first 5 dimensions): {embedding[:5]}\")\n",
    "    print(\"-\" * 30)"
   ]
  },
  {
   "cell_type": "code",
   "execution_count": 14,
   "id": "6aa8f9d6",
   "metadata": {},
   "outputs": [
    {
     "name": "stdout",
     "output_type": "stream",
     "text": [
      "\n",
      "Full array of embeddings:\n",
      "[[-0.03272183  0.01143769 -0.01804311 ...  0.00850666  0.07111912\n",
      "  -0.03559213]\n",
      " [-0.0135351  -0.03630215 -0.03260653 ...  0.01014425  0.09448725\n",
      "  -0.03075811]\n",
      " [-0.03285681  0.07727297 -0.02225168 ... -0.02144773  0.09580521\n",
      "  -0.03796363]\n",
      " [-0.01628058 -0.03331627 -0.02647488 ...  0.02663649  0.05206154\n",
      "  -0.00568554]\n",
      " [-0.04280667  0.03065977 -0.01687398 ...  0.0506168  -0.00454485\n",
      "  -0.05869922]]\n"
     ]
    }
   ],
   "source": [
    "# You can also print the entire numpy array of embeddings\n",
    "print(\"\\nFull array of embeddings:\")\n",
    "print(embeddings_sent)"
   ]
  },
  {
   "cell_type": "code",
   "execution_count": 15,
   "id": "faa469de",
   "metadata": {},
   "outputs": [],
   "source": [
    "from langchain_huggingface import HuggingFaceEmbeddings\n",
    "\n",
    "embeddings = HuggingFaceEmbeddings(model_name='all-mpnet-base-v2').embed_documents(sentences)"
   ]
  },
  {
   "cell_type": "code",
   "execution_count": 16,
   "id": "a590fc63",
   "metadata": {},
   "outputs": [
    {
     "name": "stdout",
     "output_type": "stream",
     "text": [
      "Sentence: I love learning!\n",
      "Embedding shape: 768\n",
      "Embedding (first 5 dimensions): [-0.032721832394599915, 0.011437694542109966, -0.01804310828447342, 0.02177307941019535, 0.04838644340634346]\n",
      "------------------------------\n",
      "Sentence: Learning is fun!\n",
      "Embedding shape: 768\n",
      "Embedding (first 5 dimensions): [-0.013535098172724247, -0.036302149295806885, -0.03260653093457222, 0.014743246138095856, 0.023535221815109253]\n",
      "------------------------------\n",
      "Sentence: Never stop learning!\n",
      "Embedding shape: 768\n",
      "Embedding (first 5 dimensions): [-0.032856810837984085, 0.07727297395467758, -0.022251682355999947, 0.002503472613170743, 0.06208543851971626]\n",
      "------------------------------\n",
      "Sentence: Explore LinkedIn Learning courses.\n",
      "Embedding shape: 768\n",
      "Embedding (first 5 dimensions): [-0.016280580312013626, -0.033316273242235184, -0.026474883779883385, -0.003013985464349389, 0.00740443728864193]\n",
      "------------------------------\n",
      "Sentence: Watch my other courses\n",
      "Embedding shape: 768\n",
      "Embedding (first 5 dimensions): [-0.04280666634440422, 0.030659765005111694, -0.016873979941010475, 0.05051419138908386, 0.002017008373513818]\n",
      "------------------------------\n"
     ]
    }
   ],
   "source": [
    "# Print the embeddings\n",
    "for sentence, embedding in zip(sentences, embeddings):\n",
    "    print(f\"Sentence: {sentence}\")\n",
    "    print(f\"Embedding shape: {len(embedding)}\")\n",
    "    print(f\"Embedding (first 5 dimensions): {embedding[:5]}\")\n",
    "    print(\"-\" * 30)"
   ]
  },
  {
   "cell_type": "markdown",
   "id": "2a0e7744",
   "metadata": {},
   "source": [
    "### Load Document "
   ]
  },
  {
   "cell_type": "code",
   "execution_count": 17,
   "id": "b4afba72",
   "metadata": {},
   "outputs": [],
   "source": [
    "from langchain.document_loaders import PyPDFLoader\n",
    "\n",
    "# Load the document\n",
    "loader = PyPDFLoader(\"../Data/michelle_obama_speech.pdf\")\n",
    "pages = loader.load()"
   ]
  },
  {
   "cell_type": "code",
   "execution_count": 18,
   "id": "c1d07174",
   "metadata": {},
   "outputs": [
    {
     "data": {
      "text/plain": [
       "[Document(metadata={'producer': 'macOS Version 12.3 (Build 21E230) Quartz PDFContext', 'creator': 'TextEdit', 'creationdate': \"D:20240415232807Z00'00'\", 'title': 'Untitled', 'moddate': \"D:20240415232807Z00'00'\", 'source': '../Data/michelle_obama_speech.pdf', 'total_pages': 8, 'page': 0, 'page_label': '1'}, page_content='OBAMA: Hey! (Applause.) What’s going on? (Applause.) Thank \\nyou all so much. You guys, that’s a command — rest yourselves. \\n(Laughter.) We’re almost at the end. (Laughter.) Hello, everyone. \\nAnd, may I say for the last time officially, welcome to the White \\nHouse. Yes! (Applause.) Well, we are beyond thrilled to have you \\nall here to celebrate the 2017 National School Counselor of the \\nYear, as well as all of our State Counselors of the Year. These are \\nthe fine women, and a few good men — (laughter) — one good man \\n— who are on this stage, and they represent schools from across this \\ncountry.\\nAnd I want to start by thanking Terri for that wonderful introduction \\nand her right-on-the-spot remarks. I’m going to say a lot more about \\nTerri in a few minutes, but first I want to take a moment to \\nacknowledge a few people who are here.\\nFirst, our outstanding Secretary of Education, John King. \\n(Applause.) As well as our former Education Secretary, Arne \\nDuncan. (Applause.) I want to take this time to thank you both \\npublicly for your dedication and leadership and friendship. We \\ncouldn’t do this without the support of the Department of Education \\nunder both of your leadership. So I’m grateful to you personally, \\nand very proud of all that you’ve done for this country.\\nI also want to acknowledge a few other special guests we have in the \\naudience. We’ve got a pretty awesome crew. As one of my staff \\nsaid, “You roll pretty deep.” (Laughter.) I’m like, well, yeah, we \\nhave a few good friends. We have with us today Ted Allen, La La \\nAnthony, Connie Britton, Andy Cohen — yeah, Andy Cohen is here \\n— (laughter) — Carla Hall, Coach Jim Harbaugh and his beautiful \\nwife, who’s a lot better looking than him — (laughter) — Lana \\nParrilla, my buddy Jay Pharoah, Kelly Rowland, Usher —\\nAUDIENCE MEMBER: Woo!\\nMRS. OBAMA: Keep it down. (Laughter.) Keep it together, ladies. \\nWale is here. And of course, Allison Williams and her mom are \\nhere.'),\n",
       " Document(metadata={'producer': 'macOS Version 12.3 (Build 21E230) Quartz PDFContext', 'creator': 'TextEdit', 'creationdate': \"D:20240415232807Z00'00'\", 'title': 'Untitled', 'moddate': \"D:20240415232807Z00'00'\", 'source': '../Data/michelle_obama_speech.pdf', 'total_pages': 8, 'page': 1, 'page_label': '2'}, page_content='And all these folks are here because they’re using their star power to \\ninspire our young people. And I’m so grateful to all of you for \\nstepping up in so many ways on so many occasions. I feel like I’ve \\npestered you over these years, asking time and time again, “Well, \\nwhere are you going to be?” “I’m going to be in New York.” “Can \\nyou come? Can you come here? Can you do this? Can you take that? \\nCan you ask for that? Can you come? Can we rap? Can we sing?” \\n(Laughter.) So thank you all so much. It really means the world to \\nthis initiative to have such powerful, respected and admired \\nindividuals speaking on behalf of this issue. So congratulations on \\nthe work that you’ve done, and we’re going to keep working.\\nAnd today, I especially want to recognize all these — extraordinary \\nleadership team that was behind Reach Higher from day one. And \\nthis isn’t on the script so they don’t know this. I want to take time to \\npersonally acknowledge a couple of people. Executive Director Eric \\nWaldo. (Applause.) Where is Eric? He’s in the — you’ve got to step \\nout. (Applause.) Eric is acting like he’s a ham, but he likes the \\nspotlight. (Laughter.) He’s acting a little shy. I want to recognize \\nour Deputy Director, Stephanie Sprow. Stephanie. (Applause.) And \\nhe’s really not going to like this because he tries to pretend like he \\ndoesn’t exist at all, but our Senior Advisor, Greg Darnieder. \\n(Applause.) There you go. Greg has been a leader in education his \\nentire life. I’ve known him since I was a little organizer person. And \\nit’s just been just a joy to work with you all. These individuals, they \\nare brilliant. They are creative. They have worked miracles with \\nhardly any staff or budget to speak of — which is how we roll in the \\nFirst Lady’s Office. (Laughter.) And I am so proud and so, so \\ngrateful to you all for everything that you’ve done. So let’s give \\nthem a round of applause. (Applause.)\\nAnd finally, I want to recognize all of you who are here in this \\naudience. We have our educators, our leaders, our young people \\nwho have been with us since we launched Reach Higher back in \\n2014. Now, when we first came up with this idea, we had one clear'),\n",
       " Document(metadata={'producer': 'macOS Version 12.3 (Build 21E230) Quartz PDFContext', 'creator': 'TextEdit', 'creationdate': \"D:20240415232807Z00'00'\", 'title': 'Untitled', 'moddate': \"D:20240415232807Z00'00'\", 'source': '../Data/michelle_obama_speech.pdf', 'total_pages': 8, 'page': 2, 'page_label': '3'}, page_content='goal in mind: We wanted to make higher education cool. We wanted \\nto change the conversation around what it means and what it takes \\nto be a success in this country. Because let’s be honest, if we’re \\nalways shining the spotlight on professional athletes or recording \\nartists or Hollywood celebrities, if those are the only achievements \\nwe celebrate, then why would we ever think kids would see college \\nas a priority?\\nSo we decided to flip the script and shine a big, bright spotlight on \\nall things educational. For example, we made College Signing Day a \\nnational event. We wanted to mimic all the drama and excitement \\ntraditionally reserved for those few amazing football and basketball \\nplayers choosing their college and university teams. We wanted to \\nfocus that same level of energy and attention on kids going to \\ncollege because of their academic achievements. Because as a \\nnation, that’s where the spotlight should also be — on kids who \\nwork hard in school and do the right thing when no one is watching, \\nmany beating daunting odds.\\nNext, we launched Better Make Room. It’s a social media campaign \\nto give young people the support and inspiration they need to \\nactually complete higher education. And to really drive that message \\nhome, you may recall that I debuted my music career — (laughter) \\n— rapping with Jay about getting some knowledge by going to \\ncollege. (Laughter and applause.)\\nWe are also very proud of all that this administration has done to \\nmake higher education more affordable. We doubled investments in \\nPell grants and college tax credits. We expanded income-based loan \\nrepayment options for tens of millions of students. We made it \\neasier to apply for financial aid. We created a College Scorecard to \\nhelp students make good decisions about higher education. And we \\nprovided new funding and support for school counselors. \\n(Applause.) Altogether, we made in this administration the largest \\ninvestment in higher education since the G.I. Bill. (Applause.) And \\ntoday, the high school graduation rate is at a record high, and more'),\n",
       " Document(metadata={'producer': 'macOS Version 12.3 (Build 21E230) Quartz PDFContext', 'creator': 'TextEdit', 'creationdate': \"D:20240415232807Z00'00'\", 'title': 'Untitled', 'moddate': \"D:20240415232807Z00'00'\", 'source': '../Data/michelle_obama_speech.pdf', 'total_pages': 8, 'page': 3, 'page_label': '4'}, page_content='young people than ever before are going to college.\\nAnd we know that school counselors like all of the folks standing \\nwith me on this stage have played a critical role in helping us get \\nthere. In fact, a recent study showed that students who met with a \\nschool counselor to talk about financial aid or college were three \\ntimes more likely to attend college, and they were nearly seven \\ntimes more likely to apply for financial aid.\\nSo our school counselors are truly among the heroes of the Reach \\nHigher story. And that’s why we created this event two years ago, \\nbecause we thought that they should finally get some recognition. \\n(Applause.) We wanted everyone to know about the difference that \\nthese phenomenal men and women have been making in the lives of \\nour young people every day. And our 2017 School Counselor of the \\nYear, Terri Tchorzynski, is a perfect example.\\nAs you heard, Terri works at the Calhoun Area Career Center, a \\ncareer and technical education school in Michigan. And here’s what \\nTerri’s principal said about her in his letter of recommendation. He \\nsaid, “Once she identifies a systemic need, she works tirelessly to \\naddress it.”\\nSo when students at Terri’s school reported feeling unprepared to \\napply for higher education, Terri sprang into action to create a \\nschool-wide, top-to-bottom college-readiness effort. Under Terri’s \\nleadership, more students than ever before attended workshops on \\nresume writing, FAFSA completion — yes, I can now say FAFSA \\n— (laughter) — and interview preparation. I can barely say it. \\n(Laughter.) They did career and personal — personality \\nassessments. They helped plan a special college week. And they \\norganized a Military Day, hosting recruiters from all branches of our \\narmed forces. And because of these efforts, today, 75 percent of \\nCalhoun’s seniors now complete key college application steps, and \\nTerri’s school has won state and national recognition.\\nAnd all of this is just one small part of what Terri does for her \\nstudents each day. I can go on and on about all the time she spends'),\n",
       " Document(metadata={'producer': 'macOS Version 12.3 (Build 21E230) Quartz PDFContext', 'creator': 'TextEdit', 'creationdate': \"D:20240415232807Z00'00'\", 'title': 'Untitled', 'moddate': \"D:20240415232807Z00'00'\", 'source': '../Data/michelle_obama_speech.pdf', 'total_pages': 8, 'page': 4, 'page_label': '5'}, page_content='one-on-one with students, helping them figure out their life path. \\nTerri told us — as you heard, she told us about one of those \\nstudents, so we reached out to Kyra. And here’s what Kyra had to \\nsay in her own words. Kyra wrote that “Mrs. Tchorzynski has \\nhelped me grow to love myself. She helped me with my doubts and \\ninsecurities.” She said, my life has changed “for the better in all \\naspects.” Kyra said, “She held my hand through my hardest times.” \\nShe said, “Mrs. Tchorzynski is my lifesaver.” That’s what Kyra \\nsaid. (Laughter.)\\nAnd this is what each of you do every single day. You see the \\npromise in each of your students. You believe in them even when \\nthey can’t believe in themselves, and you work tirelessly to help \\nthem be who they were truly meant to be. And you do it all in the \\nface of some overwhelming challenges — tight budgets, impossible \\nstudent- counselor ratios — yeah, amen — (laughter) — endless \\ndemands on your time.\\nYou all come in early, you stay late. You reach into your own \\npockets — and see, we’ve got the amen corner. (Laughter.) You \\nstick with students in their darkest moments, when they’re most \\nanxious and afraid. And if anyone is dealing with a college [high \\nschool] senior or junior, you know what this feels like. These men \\nand women show them that those kids matter; that they have \\nsomething to offer; that no matter where they’re from or how much \\nmoney their parents have, no matter what they look like or who they \\nlove or how they worship or what language they speak at home, they \\nhave a place in this country.\\nAnd as I end my time in the White House, I can think of no better \\nmessage to send our young people in my last official remarks as \\nFirst Lady. So for all the young people in this room and those who \\nare watching, know that this country belongs to you — to all of you, \\nfrom every background and walk of life. If you or your parents are \\nimmigrants, know that you are part of a proud American tradition — \\nthe infusion of new cultures, talents and ideas, generation after'),\n",
       " Document(metadata={'producer': 'macOS Version 12.3 (Build 21E230) Quartz PDFContext', 'creator': 'TextEdit', 'creationdate': \"D:20240415232807Z00'00'\", 'title': 'Untitled', 'moddate': \"D:20240415232807Z00'00'\", 'source': '../Data/michelle_obama_speech.pdf', 'total_pages': 8, 'page': 5, 'page_label': '6'}, page_content='generation, that has made us the greatest country on earth.\\nIf your family doesn’t have much money, I want you to remember \\nthat in this country, plenty of folks, including me and my husband \\n— we started out with very little. But with a lot of hard work and a \\ngood education, anything is possible — even becoming President. \\nThat’s what the American Dream is all about. (Applause.)\\nIf you are a person of faith, know that religious diversity is a great \\nAmerican tradition, too. In fact, that’s why people first came to this \\ncountry — to worship freely. And whether you are Muslim, \\nChristian, Jewish, Hindu, Sikh — these religions are teaching our \\nyoung people about justice, and compassion, and honesty. So I want \\nour young people to continue to learn and practice those values with \\npride. You see, our glorious diversity — our diversities of faiths and \\ncolors and creeds — that is not a threat to who we are, it makes us \\nwho we are. (Applause.) So the young people here and the young \\npeople out there: Do not ever let anyone make you feel like you \\ndon’t matter, or like you don’t have a place in our American story \\n— because you do. And you have a right to be exactly who you are. \\nBut I also want to be very clear: This right isn’t just handed to you. \\nNo, this right has to be earned every single day. You cannot take \\nyour freedoms for granted. Just like generations who have come \\nbefore you, you have to do your part to preserve and protect those \\nfreedoms. And that starts right now, when you’re young.\\nRight now, you need to be preparing yourself to add your voice to \\nour national conversation. You need to prepare yourself to be \\ninformed and engaged as a citizen, to serve and to lead, to stand up \\nfor our proud American values and to honor them in your daily \\nlives. And that means getting the best education possible so you can \\nthink critically, so you can express yourself clearly, so you can get a \\ngood job and support yourself and your family, so you can be a \\npositive force in your communities.\\nAnd when you encounter obstacles — because I guarantee you, you \\nwill, and many of you already have — when you are struggling and'),\n",
       " Document(metadata={'producer': 'macOS Version 12.3 (Build 21E230) Quartz PDFContext', 'creator': 'TextEdit', 'creationdate': \"D:20240415232807Z00'00'\", 'title': 'Untitled', 'moddate': \"D:20240415232807Z00'00'\", 'source': '../Data/michelle_obama_speech.pdf', 'total_pages': 8, 'page': 6, 'page_label': '7'}, page_content='you start thinking about giving up, I want you to remember \\nsomething that my husband and I have talked about since we first \\nstarted this journey nearly a decade ago, something that has carried \\nus through every moment in this White House and every moment of \\nour lives, and that is the power of hope — the belief that something \\nbetter is always possible if you’re willing to work for it and fight for \\nit.\\nIt is our fundamental belief in the power of hope that has allowed us \\nto rise above the voices of doubt and division, of anger and fear that \\nwe have faced in our own lives and in the life of this country. Our \\nhope that if we work hard enough and believe in ourselves, then we \\ncan be whatever we dream, regardless of the limitations that others \\nmay place on us. The hope that when people see us for who we truly \\nare, maybe, just maybe they, too, will be inspired to rise to their best \\npossible selves.\\nThat is the hope of students like Kyra who fight to discover their \\ngifts and share them with the world. It’s the hope of school \\ncounselors like Terri and all these folks up here who guide those \\nstudents every step of the way, refusing to give up on even a single \\nyoung person. Shoot, it’s the hope of my — folks like my dad who \\ngot up every day to do his job at the city water plant; the hope that \\none day, his kids would go to college and have opportunities he \\nnever dreamed of.\\nThat’s the kind of hope that every single one of us — politicians, \\nparents, preachers — all of us need to be providing for our young \\npeople. Because that is what moves this country forward every \\nsingle day — our hope for the future and the hard work that hope \\ninspires.\\nSo that’s my final message to young people as First Lady. It is \\nsimple. (Applause.) I want our young people to know that they \\nmatter, that they belong. So don’t be afraid — you hear me, young \\npeople? Don’t be afraid. Be focused. Be determined. Be hopeful. Be \\nempowered. Empower yourselves with a good education, then get'),\n",
       " Document(metadata={'producer': 'macOS Version 12.3 (Build 21E230) Quartz PDFContext', 'creator': 'TextEdit', 'creationdate': \"D:20240415232807Z00'00'\", 'title': 'Untitled', 'moddate': \"D:20240415232807Z00'00'\", 'source': '../Data/michelle_obama_speech.pdf', 'total_pages': 8, 'page': 7, 'page_label': '8'}, page_content='out there and use that education to build a country worthy of your \\nboundless promise. Lead by example with hope, never fear. And \\nknow that I will be with you, rooting for you and working to support \\nyou for the rest of my life.\\nAnd that is true I know for every person who are here — is here \\ntoday, and for educators and advocates all across this nation who get \\nup every day and work their hearts out to lift up our young people. \\nAnd I am so grateful to all of you for your passion and your \\ndedication and all the hard work on behalf of our next generation. \\nAnd I can think of no better way to end my time as First Lady than \\ncelebrating with all of you.\\nSo I want to close today by simply saying thank you. Thank you for \\neverything you do for our kids and for our country. Being your First \\nLady has been the greatest honor of my life, and I hope I’ve made \\nyou proud.')]"
      ]
     },
     "execution_count": 18,
     "metadata": {},
     "output_type": "execute_result"
    }
   ],
   "source": [
    "pages"
   ]
  },
  {
   "cell_type": "markdown",
   "id": "00e75289",
   "metadata": {},
   "source": [
    "## Chunk Document"
   ]
  },
  {
   "cell_type": "code",
   "execution_count": 19,
   "id": "760cb115",
   "metadata": {},
   "outputs": [],
   "source": [
    "from langchain_text_splitters import CharacterTextSplitter\n",
    "\n",
    "# Load the document & split into chunks\n",
    "text_splitter = CharacterTextSplitter(chunk_size=1_000, chunk_overlap=0)\n",
    "chunks = text_splitter.split_documents(pages)"
   ]
  },
  {
   "cell_type": "code",
   "execution_count": 20,
   "id": "919b731d",
   "metadata": {},
   "outputs": [],
   "source": [
    "# Initialize the HuggingFaceEmbeddings model\n",
    "model_name = \"sentence-transformers/all-MiniLM-L6-v2\"\n",
    "embedding_model = HuggingFaceEmbeddings(model_name=model_name)"
   ]
  },
  {
   "cell_type": "code",
   "execution_count": 21,
   "id": "876f489c",
   "metadata": {},
   "outputs": [],
   "source": [
    "# Use FAISS.from_documents to create the vector store\n",
    "from langchain_community.vectorstores import FAISS\n",
    "\n",
    "# Use FAISS.from_documents to create the vector store\n",
    "vectordb = FAISS.from_documents(pages, embedding_model)\n"
   ]
  },
  {
   "cell_type": "code",
   "execution_count": 22,
   "id": "bff56e6a",
   "metadata": {},
   "outputs": [
    {
     "name": "stdout",
     "output_type": "stream",
     "text": [
      "8\n"
     ]
    }
   ],
   "source": [
    "print(vectordb.index.ntotal)"
   ]
  },
  {
   "cell_type": "markdown",
   "id": "5e872f61",
   "metadata": {},
   "source": [
    "## Persist Data in your Vector Store"
   ]
  },
  {
   "cell_type": "code",
   "execution_count": 23,
   "id": "83f14059",
   "metadata": {},
   "outputs": [],
   "source": [
    "vectordb.save_local(\"../VectorDB/faiss2_index\")"
   ]
  },
  {
   "cell_type": "markdown",
   "id": "8316c8d0",
   "metadata": {},
   "source": [
    "## Load Vector Store"
   ]
  },
  {
   "cell_type": "code",
   "execution_count": 24,
   "id": "7e7883a9",
   "metadata": {},
   "outputs": [],
   "source": [
    "new_db = FAISS.load_local(\"../VectorDB/faiss2_index\", embedding_model, allow_dangerous_deserialization=True)"
   ]
  }
 ],
 "metadata": {
  "kernelspec": {
   "display_name": "LangChain",
   "language": "python",
   "name": "python3"
  },
  "language_info": {
   "codemirror_mode": {
    "name": "ipython",
    "version": 3
   },
   "file_extension": ".py",
   "mimetype": "text/x-python",
   "name": "python",
   "nbconvert_exporter": "python",
   "pygments_lexer": "ipython3",
   "version": "3.13.5"
  }
 },
 "nbformat": 4,
 "nbformat_minor": 5
}
