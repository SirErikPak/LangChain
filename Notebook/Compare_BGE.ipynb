{
 "cells": [
  {
   "cell_type": "code",
   "execution_count": 2,
   "id": "f6ef36ef",
   "metadata": {},
   "outputs": [],
   "source": [
    "from langchain_community.document_loaders import PyMuPDFLoader\n",
    "from langchain_pymupdf4llm import PyMuPDF4LLMLoader\n",
    "\n",
    "\n",
    "# Load PDF\n",
    "loaders1 = [\n",
    "    PyMuPDFLoader(\"../Data/botanical.pdf\"),\n",
    "    PyMuPDFLoader(\"../Data/astronomical.pdf\"),\n",
    "    PyMuPDFLoader(\"../Data/biological.pdf\"),\n",
    "    PyMuPDFLoader(\"../Data/cosmological.pdf\"),\n",
    "    PyMuPDFLoader(\"../Data/culinary.pdf\"),\n",
    "    PyMuPDFLoader(\"../Data/pharmaceutical.pdf\")\n",
    "]\n",
    "\n",
    "loaders2 = [\n",
    "    PyMuPDF4LLMLoader(\"../Data/botanical.pdf\"),\n",
    "    PyMuPDF4LLMLoader(\"../Data/astronomical.pdf\"),\n",
    "    PyMuPDF4LLMLoader(\"../Data/biological.pdf\"),\n",
    "    PyMuPDF4LLMLoader(\"../Data/cosmological.pdf\"),\n",
    "    PyMuPDF4LLMLoader(\"../Data/culinary.pdf\"),\n",
    "    PyMuPDF4LLMLoader(\"../Data/pharmaceutical.pdf\")\n",
    "]\n",
    "\n",
    "\n",
    "docs_pymu = []\n",
    "docs_py4llm = []\n",
    "\n",
    "for loader in loaders1:\n",
    "    docs_pymu.extend(loader.load())\n",
    "\n",
    "for loader in loaders2:\n",
    "    docs_py4llm.extend(loader.load())"
   ]
  },
  {
   "cell_type": "code",
   "execution_count": 5,
   "id": "df22da46",
   "metadata": {},
   "outputs": [
    {
     "data": {
      "text/plain": [
       "(24, 24)"
      ]
     },
     "execution_count": 5,
     "metadata": {},
     "output_type": "execute_result"
    }
   ],
   "source": [
    "len(docs_pymu), len(docs_py4llm)"
   ]
  },
  {
   "cell_type": "code",
   "execution_count": 6,
   "id": "300c9015",
   "metadata": {},
   "outputs": [
    {
     "data": {
      "text/plain": [
       "\"Botanical Section \\nBotanixum Sectiorum Arcanix \\n \\nA peculiar plant with spiraling leaves and \\nvibrant blue flowers that seem to emit a \\nfaint glow in moonlight. \\n• \\nHoloris spiralis: In lumine lunae, \\nflores azuri magni brillant. \\n• \\nRadices mysticae: Radices intortae \\nterram quaerunt, lumina nocturna \\nsequentes. \\n• \\nUsus: Extractum florae noctem \\nilluminat, mentem serenat. \\n \\nLuminaflora Spiralis \\nLuminaflora Spiralis thrives under the \\nmoon's tender gaze, where its spiraling \\nleaves and vibran\""
      ]
     },
     "execution_count": 6,
     "metadata": {},
     "output_type": "execute_result"
    }
   ],
   "source": [
    "docs_pymu[0].page_content[0:500]"
   ]
  },
  {
   "cell_type": "code",
   "execution_count": 7,
   "id": "3eeb8b46",
   "metadata": {},
   "outputs": [
    {
     "data": {
      "text/plain": [
       "\"# **Botanical Section**\\n\\n### **Botanixum Sectiorum Arcanix**\\n\\n## **Luminaflora Spiralis**\\n\\n\\n\\nA peculiar plant with spiraling leaves and\\n\\nvibrant blue flowers that seem to emit a\\n\\nfaint glow in moonlight.\\n\\n\\n  - **Holoris spiralis:** In lumine lunae,\\nflores azuri magni brillant.\\n\\n\\n  - **Radices mysticae:** Radices intortae\\nterram quaerunt, lumina nocturna\\n\\nsequentes.\\n\\n\\n  - **Usus:** Extractum florae noctem\\n\\nilluminat, mentem serenat.\\n\\n\\n\\n**Luminaflora Spiralis** thrives under the\\nmoon's tender gaze\""
      ]
     },
     "execution_count": 7,
     "metadata": {},
     "output_type": "execute_result"
    }
   ],
   "source": [
    "docs_py4llm[0].page_content[0:500]"
   ]
  },
  {
   "cell_type": "code",
   "execution_count": null,
   "id": "30c1e805",
   "metadata": {},
   "outputs": [],
   "source": []
  }
 ],
 "metadata": {
  "kernelspec": {
   "display_name": "LangChain",
   "language": "python",
   "name": "python3"
  },
  "language_info": {
   "codemirror_mode": {
    "name": "ipython",
    "version": 3
   },
   "file_extension": ".py",
   "mimetype": "text/x-python",
   "name": "python",
   "nbconvert_exporter": "python",
   "pygments_lexer": "ipython3",
   "version": "3.13.5"
  }
 },
 "nbformat": 4,
 "nbformat_minor": 5
}
